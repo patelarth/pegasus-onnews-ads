{
  "nbformat": 4,
  "nbformat_minor": 0,
  "metadata": {
    "colab": {
      "name": "main.ipynb",
      "provenance": [],
      "collapsed_sections": [],
      "authorship_tag": "ABX9TyMUAuuoGfCYhT+OM+0UeEqL",
      "include_colab_link": true
    },
    "kernelspec": {
      "name": "python3",
      "display_name": "Python 3"
    },
    "language_info": {
      "name": "python"
    },
    "widgets": {
      "application/vnd.jupyter.widget-state+json": {
        "43d91147f0f94a638e3f42d2b410a87f": {
          "model_module": "@jupyter-widgets/controls",
          "model_name": "HBoxModel",
          "model_module_version": "1.5.0",
          "state": {
            "_view_name": "HBoxView",
            "_dom_classes": [],
            "_model_name": "HBoxModel",
            "_view_module": "@jupyter-widgets/controls",
            "_model_module_version": "1.5.0",
            "_view_count": null,
            "_view_module_version": "1.5.0",
            "box_style": "",
            "layout": "IPY_MODEL_ef972691b1d94bfd997828ae2a1b886f",
            "_model_module": "@jupyter-widgets/controls",
            "children": [
              "IPY_MODEL_d3147737081d443fab5b794ff04314b4",
              "IPY_MODEL_255be6b3f1274431bfda9b732b375da0",
              "IPY_MODEL_f7905b7492ff4d60a6389cd111534b10"
            ]
          }
        },
        "ef972691b1d94bfd997828ae2a1b886f": {
          "model_module": "@jupyter-widgets/base",
          "model_name": "LayoutModel",
          "model_module_version": "1.2.0",
          "state": {
            "_view_name": "LayoutView",
            "grid_template_rows": null,
            "right": null,
            "justify_content": null,
            "_view_module": "@jupyter-widgets/base",
            "overflow": null,
            "_model_module_version": "1.2.0",
            "_view_count": null,
            "flex_flow": null,
            "width": null,
            "min_width": null,
            "border": null,
            "align_items": null,
            "bottom": null,
            "_model_module": "@jupyter-widgets/base",
            "top": null,
            "grid_column": null,
            "overflow_y": null,
            "overflow_x": null,
            "grid_auto_flow": null,
            "grid_area": null,
            "grid_template_columns": null,
            "flex": null,
            "_model_name": "LayoutModel",
            "justify_items": null,
            "grid_row": null,
            "max_height": null,
            "align_content": null,
            "visibility": null,
            "align_self": null,
            "height": null,
            "min_height": null,
            "padding": null,
            "grid_auto_rows": null,
            "grid_gap": null,
            "max_width": null,
            "order": null,
            "_view_module_version": "1.2.0",
            "grid_template_areas": null,
            "object_position": null,
            "object_fit": null,
            "grid_auto_columns": null,
            "margin": null,
            "display": null,
            "left": null
          }
        },
        "d3147737081d443fab5b794ff04314b4": {
          "model_module": "@jupyter-widgets/controls",
          "model_name": "HTMLModel",
          "model_module_version": "1.5.0",
          "state": {
            "_view_name": "HTMLView",
            "style": "IPY_MODEL_80148c098cd74ae5b2b6096a23ffb625",
            "_dom_classes": [],
            "description": "",
            "_model_name": "HTMLModel",
            "placeholder": "​",
            "_view_module": "@jupyter-widgets/controls",
            "_model_module_version": "1.5.0",
            "value": "100%",
            "_view_count": null,
            "_view_module_version": "1.5.0",
            "description_tooltip": null,
            "_model_module": "@jupyter-widgets/controls",
            "layout": "IPY_MODEL_e444f11cb3084d77bd052d459d5c4d64"
          }
        },
        "255be6b3f1274431bfda9b732b375da0": {
          "model_module": "@jupyter-widgets/controls",
          "model_name": "FloatProgressModel",
          "model_module_version": "1.5.0",
          "state": {
            "_view_name": "ProgressView",
            "style": "IPY_MODEL_027ef96064914dce91d26b5a2e448542",
            "_dom_classes": [],
            "description": "",
            "_model_name": "FloatProgressModel",
            "bar_style": "success",
            "max": 3,
            "_view_module": "@jupyter-widgets/controls",
            "_model_module_version": "1.5.0",
            "value": 3,
            "_view_count": null,
            "_view_module_version": "1.5.0",
            "orientation": "horizontal",
            "min": 0,
            "description_tooltip": null,
            "_model_module": "@jupyter-widgets/controls",
            "layout": "IPY_MODEL_d7dd6f0b06984860bc589b8e64a000d2"
          }
        },
        "f7905b7492ff4d60a6389cd111534b10": {
          "model_module": "@jupyter-widgets/controls",
          "model_name": "HTMLModel",
          "model_module_version": "1.5.0",
          "state": {
            "_view_name": "HTMLView",
            "style": "IPY_MODEL_a370a91c602240c69caba723c413b92b",
            "_dom_classes": [],
            "description": "",
            "_model_name": "HTMLModel",
            "placeholder": "​",
            "_view_module": "@jupyter-widgets/controls",
            "_model_module_version": "1.5.0",
            "value": " 3/3 [00:00&lt;00:00,  9.66it/s]",
            "_view_count": null,
            "_view_module_version": "1.5.0",
            "description_tooltip": null,
            "_model_module": "@jupyter-widgets/controls",
            "layout": "IPY_MODEL_15ddfe3e890b40faa86459e3aadbcb20"
          }
        },
        "80148c098cd74ae5b2b6096a23ffb625": {
          "model_module": "@jupyter-widgets/controls",
          "model_name": "DescriptionStyleModel",
          "model_module_version": "1.5.0",
          "state": {
            "_view_name": "StyleView",
            "_model_name": "DescriptionStyleModel",
            "description_width": "",
            "_view_module": "@jupyter-widgets/base",
            "_model_module_version": "1.5.0",
            "_view_count": null,
            "_view_module_version": "1.2.0",
            "_model_module": "@jupyter-widgets/controls"
          }
        },
        "e444f11cb3084d77bd052d459d5c4d64": {
          "model_module": "@jupyter-widgets/base",
          "model_name": "LayoutModel",
          "model_module_version": "1.2.0",
          "state": {
            "_view_name": "LayoutView",
            "grid_template_rows": null,
            "right": null,
            "justify_content": null,
            "_view_module": "@jupyter-widgets/base",
            "overflow": null,
            "_model_module_version": "1.2.0",
            "_view_count": null,
            "flex_flow": null,
            "width": null,
            "min_width": null,
            "border": null,
            "align_items": null,
            "bottom": null,
            "_model_module": "@jupyter-widgets/base",
            "top": null,
            "grid_column": null,
            "overflow_y": null,
            "overflow_x": null,
            "grid_auto_flow": null,
            "grid_area": null,
            "grid_template_columns": null,
            "flex": null,
            "_model_name": "LayoutModel",
            "justify_items": null,
            "grid_row": null,
            "max_height": null,
            "align_content": null,
            "visibility": null,
            "align_self": null,
            "height": null,
            "min_height": null,
            "padding": null,
            "grid_auto_rows": null,
            "grid_gap": null,
            "max_width": null,
            "order": null,
            "_view_module_version": "1.2.0",
            "grid_template_areas": null,
            "object_position": null,
            "object_fit": null,
            "grid_auto_columns": null,
            "margin": null,
            "display": null,
            "left": null
          }
        },
        "027ef96064914dce91d26b5a2e448542": {
          "model_module": "@jupyter-widgets/controls",
          "model_name": "ProgressStyleModel",
          "model_module_version": "1.5.0",
          "state": {
            "_view_name": "StyleView",
            "_model_name": "ProgressStyleModel",
            "description_width": "",
            "_view_module": "@jupyter-widgets/base",
            "_model_module_version": "1.5.0",
            "_view_count": null,
            "_view_module_version": "1.2.0",
            "bar_color": null,
            "_model_module": "@jupyter-widgets/controls"
          }
        },
        "d7dd6f0b06984860bc589b8e64a000d2": {
          "model_module": "@jupyter-widgets/base",
          "model_name": "LayoutModel",
          "model_module_version": "1.2.0",
          "state": {
            "_view_name": "LayoutView",
            "grid_template_rows": null,
            "right": null,
            "justify_content": null,
            "_view_module": "@jupyter-widgets/base",
            "overflow": null,
            "_model_module_version": "1.2.0",
            "_view_count": null,
            "flex_flow": null,
            "width": null,
            "min_width": null,
            "border": null,
            "align_items": null,
            "bottom": null,
            "_model_module": "@jupyter-widgets/base",
            "top": null,
            "grid_column": null,
            "overflow_y": null,
            "overflow_x": null,
            "grid_auto_flow": null,
            "grid_area": null,
            "grid_template_columns": null,
            "flex": null,
            "_model_name": "LayoutModel",
            "justify_items": null,
            "grid_row": null,
            "max_height": null,
            "align_content": null,
            "visibility": null,
            "align_self": null,
            "height": null,
            "min_height": null,
            "padding": null,
            "grid_auto_rows": null,
            "grid_gap": null,
            "max_width": null,
            "order": null,
            "_view_module_version": "1.2.0",
            "grid_template_areas": null,
            "object_position": null,
            "object_fit": null,
            "grid_auto_columns": null,
            "margin": null,
            "display": null,
            "left": null
          }
        },
        "a370a91c602240c69caba723c413b92b": {
          "model_module": "@jupyter-widgets/controls",
          "model_name": "DescriptionStyleModel",
          "model_module_version": "1.5.0",
          "state": {
            "_view_name": "StyleView",
            "_model_name": "DescriptionStyleModel",
            "description_width": "",
            "_view_module": "@jupyter-widgets/base",
            "_model_module_version": "1.5.0",
            "_view_count": null,
            "_view_module_version": "1.2.0",
            "_model_module": "@jupyter-widgets/controls"
          }
        },
        "15ddfe3e890b40faa86459e3aadbcb20": {
          "model_module": "@jupyter-widgets/base",
          "model_name": "LayoutModel",
          "model_module_version": "1.2.0",
          "state": {
            "_view_name": "LayoutView",
            "grid_template_rows": null,
            "right": null,
            "justify_content": null,
            "_view_module": "@jupyter-widgets/base",
            "overflow": null,
            "_model_module_version": "1.2.0",
            "_view_count": null,
            "flex_flow": null,
            "width": null,
            "min_width": null,
            "border": null,
            "align_items": null,
            "bottom": null,
            "_model_module": "@jupyter-widgets/base",
            "top": null,
            "grid_column": null,
            "overflow_y": null,
            "overflow_x": null,
            "grid_auto_flow": null,
            "grid_area": null,
            "grid_template_columns": null,
            "flex": null,
            "_model_name": "LayoutModel",
            "justify_items": null,
            "grid_row": null,
            "max_height": null,
            "align_content": null,
            "visibility": null,
            "align_self": null,
            "height": null,
            "min_height": null,
            "padding": null,
            "grid_auto_rows": null,
            "grid_gap": null,
            "max_width": null,
            "order": null,
            "_view_module_version": "1.2.0",
            "grid_template_areas": null,
            "object_position": null,
            "object_fit": null,
            "grid_auto_columns": null,
            "margin": null,
            "display": null,
            "left": null
          }
        }
      }
    }
  },
  "cells": [
    {
      "cell_type": "markdown",
      "metadata": {
        "id": "view-in-github",
        "colab_type": "text"
      },
      "source": [
        "<a href=\"https://colab.research.google.com/github/patelarth/pegasus-onnews-ads/blob/main/main.ipynb\" target=\"_parent\"><img src=\"https://colab.research.google.com/assets/colab-badge.svg\" alt=\"Open In Colab\"/></a>"
      ]
    },
    {
      "cell_type": "code",
      "metadata": {
        "id": "aehc33yJ8Hfq",
        "colab": {
          "base_uri": "https://localhost:8080/"
        },
        "outputId": "d3083120-7998-4382-915e-c47f4b53d9ad"
      },
      "source": [
        "#if the notebook is colab \n",
        "!pip3 install torch==1.8.2+cu111 torchvision==0.9.2+cu111 torchaudio===0.8.2 -f https://download.pytorch.org/whl/lts/1.8/torch_lts.html\n",
        "!pip install sentencepiece\n",
        "!pip install transformers\n",
        "!pip install rouge-score"
      ],
      "execution_count": 54,
      "outputs": [
        {
          "output_type": "stream",
          "name": "stdout",
          "text": [
            "Looking in links: https://download.pytorch.org/whl/lts/1.8/torch_lts.html\n",
            "Requirement already satisfied: torch==1.8.2+cu111 in /usr/local/lib/python3.7/dist-packages (1.8.2+cu111)\n",
            "Requirement already satisfied: torchvision==0.9.2+cu111 in /usr/local/lib/python3.7/dist-packages (0.9.2+cu111)\n",
            "Requirement already satisfied: torchaudio===0.8.2 in /usr/local/lib/python3.7/dist-packages (0.8.2)\n",
            "Requirement already satisfied: typing-extensions in /usr/local/lib/python3.7/dist-packages (from torch==1.8.2+cu111) (3.7.4.3)\n",
            "Requirement already satisfied: numpy in /usr/local/lib/python3.7/dist-packages (from torch==1.8.2+cu111) (1.19.5)\n",
            "Requirement already satisfied: pillow>=4.1.1 in /usr/local/lib/python3.7/dist-packages (from torchvision==0.9.2+cu111) (7.1.2)\n",
            "Requirement already satisfied: sentencepiece in /usr/local/lib/python3.7/dist-packages (0.1.96)\n",
            "Requirement already satisfied: transformers in /usr/local/lib/python3.7/dist-packages (4.12.3)\n",
            "Requirement already satisfied: huggingface-hub<1.0,>=0.1.0 in /usr/local/lib/python3.7/dist-packages (from transformers) (0.1.0)\n",
            "Requirement already satisfied: numpy>=1.17 in /usr/local/lib/python3.7/dist-packages (from transformers) (1.19.5)\n",
            "Requirement already satisfied: tqdm>=4.27 in /usr/local/lib/python3.7/dist-packages (from transformers) (4.62.3)\n",
            "Requirement already satisfied: sacremoses in /usr/local/lib/python3.7/dist-packages (from transformers) (0.0.46)\n",
            "Requirement already satisfied: importlib-metadata in /usr/local/lib/python3.7/dist-packages (from transformers) (4.8.1)\n",
            "Requirement already satisfied: filelock in /usr/local/lib/python3.7/dist-packages (from transformers) (3.3.0)\n",
            "Requirement already satisfied: requests in /usr/local/lib/python3.7/dist-packages (from transformers) (2.23.0)\n",
            "Requirement already satisfied: pyyaml>=5.1 in /usr/local/lib/python3.7/dist-packages (from transformers) (6.0)\n",
            "Requirement already satisfied: regex!=2019.12.17 in /usr/local/lib/python3.7/dist-packages (from transformers) (2019.12.20)\n",
            "Requirement already satisfied: tokenizers<0.11,>=0.10.1 in /usr/local/lib/python3.7/dist-packages (from transformers) (0.10.3)\n",
            "Requirement already satisfied: packaging>=20.0 in /usr/local/lib/python3.7/dist-packages (from transformers) (21.0)\n",
            "Requirement already satisfied: typing-extensions in /usr/local/lib/python3.7/dist-packages (from huggingface-hub<1.0,>=0.1.0->transformers) (3.7.4.3)\n",
            "Requirement already satisfied: pyparsing>=2.0.2 in /usr/local/lib/python3.7/dist-packages (from packaging>=20.0->transformers) (2.4.7)\n",
            "Requirement already satisfied: zipp>=0.5 in /usr/local/lib/python3.7/dist-packages (from importlib-metadata->transformers) (3.6.0)\n",
            "Requirement already satisfied: idna<3,>=2.5 in /usr/local/lib/python3.7/dist-packages (from requests->transformers) (2.10)\n",
            "Requirement already satisfied: certifi>=2017.4.17 in /usr/local/lib/python3.7/dist-packages (from requests->transformers) (2021.5.30)\n",
            "Requirement already satisfied: chardet<4,>=3.0.2 in /usr/local/lib/python3.7/dist-packages (from requests->transformers) (3.0.4)\n",
            "Requirement already satisfied: urllib3!=1.25.0,!=1.25.1,<1.26,>=1.21.1 in /usr/local/lib/python3.7/dist-packages (from requests->transformers) (1.24.3)\n",
            "Requirement already satisfied: joblib in /usr/local/lib/python3.7/dist-packages (from sacremoses->transformers) (1.0.1)\n",
            "Requirement already satisfied: six in /usr/local/lib/python3.7/dist-packages (from sacremoses->transformers) (1.15.0)\n",
            "Requirement already satisfied: click in /usr/local/lib/python3.7/dist-packages (from sacremoses->transformers) (7.1.2)\n",
            "Requirement already satisfied: rouge-score in /usr/local/lib/python3.7/dist-packages (0.0.4)\n",
            "Requirement already satisfied: six>=1.14.0 in /usr/local/lib/python3.7/dist-packages (from rouge-score) (1.15.0)\n",
            "Requirement already satisfied: numpy in /usr/local/lib/python3.7/dist-packages (from rouge-score) (1.19.5)\n",
            "Requirement already satisfied: nltk in /usr/local/lib/python3.7/dist-packages (from rouge-score) (3.2.5)\n",
            "Requirement already satisfied: absl-py in /usr/local/lib/python3.7/dist-packages (from rouge-score) (0.12.0)\n"
          ]
        }
      ]
    },
    {
      "cell_type": "code",
      "metadata": {
        "colab": {
          "base_uri": "https://localhost:8080/"
        },
        "id": "J9_ku0jNS5Yy",
        "outputId": "5f44ae66-1684-4d5b-e3fb-99fae1552612"
      },
      "source": [
        "!pip install datasets\n"
      ],
      "execution_count": 55,
      "outputs": [
        {
          "output_type": "stream",
          "name": "stdout",
          "text": [
            "Requirement already satisfied: datasets in /usr/local/lib/python3.7/dist-packages (1.15.1)\n",
            "Requirement already satisfied: multiprocess in /usr/local/lib/python3.7/dist-packages (from datasets) (0.70.12.2)\n",
            "Requirement already satisfied: tqdm>=4.62.1 in /usr/local/lib/python3.7/dist-packages (from datasets) (4.62.3)\n",
            "Requirement already satisfied: xxhash in /usr/local/lib/python3.7/dist-packages (from datasets) (2.0.2)\n",
            "Requirement already satisfied: dill in /usr/local/lib/python3.7/dist-packages (from datasets) (0.3.4)\n",
            "Requirement already satisfied: huggingface-hub<1.0.0,>=0.1.0 in /usr/local/lib/python3.7/dist-packages (from datasets) (0.1.0)\n",
            "Requirement already satisfied: requests>=2.19.0 in /usr/local/lib/python3.7/dist-packages (from datasets) (2.23.0)\n",
            "Requirement already satisfied: pandas in /usr/local/lib/python3.7/dist-packages (from datasets) (1.1.5)\n",
            "Requirement already satisfied: fsspec[http]>=2021.05.0 in /usr/local/lib/python3.7/dist-packages (from datasets) (2021.10.1)\n",
            "Requirement already satisfied: aiohttp in /usr/local/lib/python3.7/dist-packages (from datasets) (3.8.0)\n",
            "Requirement already satisfied: pyarrow!=4.0.0,>=1.0.0 in /usr/local/lib/python3.7/dist-packages (from datasets) (3.0.0)\n",
            "Requirement already satisfied: importlib-metadata in /usr/local/lib/python3.7/dist-packages (from datasets) (4.8.1)\n",
            "Requirement already satisfied: numpy>=1.17 in /usr/local/lib/python3.7/dist-packages (from datasets) (1.19.5)\n",
            "Requirement already satisfied: packaging in /usr/local/lib/python3.7/dist-packages (from datasets) (21.0)\n",
            "Requirement already satisfied: filelock in /usr/local/lib/python3.7/dist-packages (from huggingface-hub<1.0.0,>=0.1.0->datasets) (3.3.0)\n",
            "Requirement already satisfied: typing-extensions in /usr/local/lib/python3.7/dist-packages (from huggingface-hub<1.0.0,>=0.1.0->datasets) (3.7.4.3)\n",
            "Requirement already satisfied: pyyaml in /usr/local/lib/python3.7/dist-packages (from huggingface-hub<1.0.0,>=0.1.0->datasets) (6.0)\n",
            "Requirement already satisfied: pyparsing>=2.0.2 in /usr/local/lib/python3.7/dist-packages (from packaging->datasets) (2.4.7)\n",
            "Requirement already satisfied: urllib3!=1.25.0,!=1.25.1,<1.26,>=1.21.1 in /usr/local/lib/python3.7/dist-packages (from requests>=2.19.0->datasets) (1.24.3)\n",
            "Requirement already satisfied: certifi>=2017.4.17 in /usr/local/lib/python3.7/dist-packages (from requests>=2.19.0->datasets) (2021.5.30)\n",
            "Requirement already satisfied: idna<3,>=2.5 in /usr/local/lib/python3.7/dist-packages (from requests>=2.19.0->datasets) (2.10)\n",
            "Requirement already satisfied: chardet<4,>=3.0.2 in /usr/local/lib/python3.7/dist-packages (from requests>=2.19.0->datasets) (3.0.4)\n",
            "Requirement already satisfied: charset-normalizer<3.0,>=2.0 in /usr/local/lib/python3.7/dist-packages (from aiohttp->datasets) (2.0.7)\n",
            "Requirement already satisfied: yarl<2.0,>=1.0 in /usr/local/lib/python3.7/dist-packages (from aiohttp->datasets) (1.7.2)\n",
            "Requirement already satisfied: asynctest==0.13.0 in /usr/local/lib/python3.7/dist-packages (from aiohttp->datasets) (0.13.0)\n",
            "Requirement already satisfied: aiosignal>=1.1.2 in /usr/local/lib/python3.7/dist-packages (from aiohttp->datasets) (1.2.0)\n",
            "Requirement already satisfied: frozenlist>=1.1.1 in /usr/local/lib/python3.7/dist-packages (from aiohttp->datasets) (1.2.0)\n",
            "Requirement already satisfied: async-timeout<5.0,>=4.0.0a3 in /usr/local/lib/python3.7/dist-packages (from aiohttp->datasets) (4.0.0)\n",
            "Requirement already satisfied: multidict<7.0,>=4.5 in /usr/local/lib/python3.7/dist-packages (from aiohttp->datasets) (5.2.0)\n",
            "Requirement already satisfied: attrs>=17.3.0 in /usr/local/lib/python3.7/dist-packages (from aiohttp->datasets) (21.2.0)\n",
            "Requirement already satisfied: zipp>=0.5 in /usr/local/lib/python3.7/dist-packages (from importlib-metadata->datasets) (3.6.0)\n",
            "Requirement already satisfied: pytz>=2017.2 in /usr/local/lib/python3.7/dist-packages (from pandas->datasets) (2018.9)\n",
            "Requirement already satisfied: python-dateutil>=2.7.3 in /usr/local/lib/python3.7/dist-packages (from pandas->datasets) (2.8.2)\n",
            "Requirement already satisfied: six>=1.5 in /usr/local/lib/python3.7/dist-packages (from python-dateutil>=2.7.3->pandas->datasets) (1.15.0)\n"
          ]
        }
      ]
    },
    {
      "cell_type": "code",
      "metadata": {
        "id": "JrRqpgvrXMzH",
        "colab": {
          "base_uri": "https://localhost:8080/",
          "height": 86,
          "referenced_widgets": [
            "43d91147f0f94a638e3f42d2b410a87f",
            "ef972691b1d94bfd997828ae2a1b886f",
            "d3147737081d443fab5b794ff04314b4",
            "255be6b3f1274431bfda9b732b375da0",
            "f7905b7492ff4d60a6389cd111534b10",
            "80148c098cd74ae5b2b6096a23ffb625",
            "e444f11cb3084d77bd052d459d5c4d64",
            "027ef96064914dce91d26b5a2e448542",
            "d7dd6f0b06984860bc589b8e64a000d2",
            "a370a91c602240c69caba723c413b92b",
            "15ddfe3e890b40faa86459e3aadbcb20"
          ]
        },
        "outputId": "748262b7-e01c-466a-a8c0-54417cd1c5a1"
      },
      "source": [
        "from datasets import load_dataset\n",
        "data = load_dataset(\"cnn_dailymail\",'3.0.0')"
      ],
      "execution_count": 56,
      "outputs": [
        {
          "output_type": "stream",
          "name": "stderr",
          "text": [
            "Reusing dataset cnn_dailymail (/root/.cache/huggingface/datasets/cnn_dailymail/3.0.0/3.0.0/3cb851bf7cf5826e45d49db2863f627cba583cbc32342df7349dfe6c38060234)\n"
          ]
        },
        {
          "output_type": "display_data",
          "data": {
            "application/vnd.jupyter.widget-view+json": {
              "model_id": "43d91147f0f94a638e3f42d2b410a87f",
              "version_minor": 0,
              "version_major": 2
            },
            "text/plain": [
              "  0%|          | 0/3 [00:00<?, ?it/s]"
            ]
          },
          "metadata": {}
        }
      ]
    },
    {
      "cell_type": "code",
      "metadata": {
        "colab": {
          "base_uri": "https://localhost:8080/"
        },
        "id": "4PXtPbplal_O",
        "outputId": "0f1adfcd-0883-4d0c-ff74-80ee28802a21"
      },
      "source": [
        "data\n"
      ],
      "execution_count": 57,
      "outputs": [
        {
          "output_type": "execute_result",
          "data": {
            "text/plain": [
              "DatasetDict({\n",
              "    train: Dataset({\n",
              "        features: ['article', 'highlights', 'id'],\n",
              "        num_rows: 287113\n",
              "    })\n",
              "    validation: Dataset({\n",
              "        features: ['article', 'highlights', 'id'],\n",
              "        num_rows: 13368\n",
              "    })\n",
              "    test: Dataset({\n",
              "        features: ['article', 'highlights', 'id'],\n",
              "        num_rows: 11490\n",
              "    })\n",
              "})"
            ]
          },
          "metadata": {},
          "execution_count": 57
        }
      ]
    },
    {
      "cell_type": "code",
      "metadata": {
        "id": "wtt3-WMoXdbQ"
      },
      "source": [
        "random = [3401,2451,3001,5015] # random ID to get the random text data\n",
        "test_data_sum = [] # summary\n",
        "test_data_doc = [] # artical \n",
        "for id in random:\n",
        "  test_data_doc.append(data['test'][id]['article'])\n",
        "  test_data_sum.append(data['test'][id]['highlights'])"
      ],
      "execution_count": 58,
      "outputs": []
    },
    {
      "cell_type": "code",
      "metadata": {
        "id": "INa-V35oXhtw",
        "colab": {
          "base_uri": "https://localhost:8080/"
        },
        "outputId": "c12f4779-5d44-4a82-da1f-1cb33a8e950e"
      },
      "source": [
        "test_data_sum"
      ],
      "execution_count": 59,
      "outputs": [
        {
          "output_type": "execute_result",
          "data": {
            "text/plain": [
              "['The proposal has been put forward by experts at NHS Health Scotland .\\nThey say more must be done to tackle alcohol problem with young people .\\nThe move would apply in pubs, clubs, supermarkets and off-licences .',\n",
              " 'Arsenal earn 1-0 Premier League victory against Burnley at Turf Moor .\\nAaron Ramsey gives Gunners an early lead with 12th minute strike .\\nGunners close to gap to four points behind Premier League leaders Chelsea .\\nBurnley remain in the bottom three with fixtures against fellow strugglers Leicester, Hull and Aston Villa to come .\\nCLICK HERE for full player ratings as Francis Coquelin shines for the Gunners .',\n",
              " 'Aunt and cousins of Waheed Ahmed were arrested at Manchester Airport .\\nAhmed, 21, was held by anti-terror police at Birmingham Airport yesterday .\\nStudent is accused of trying to take eight family members into Syria .\\nHe was arrested in Turkish border town with family, including four children .',\n",
              " \"Natural World Safaris offers tourists the opportunity to share space with the endangered species .\\nThe seven-day package includes 'basic accommodation' and no guarantee you'll see a rare tiger .\\nGuests are guided by conservationist Alexander Batalov, who works tirelessly to protect Siberian tigers .\"]"
            ]
          },
          "metadata": {},
          "execution_count": 59
        }
      ]
    },
    {
      "cell_type": "markdown",
      "metadata": {
        "id": "UV8rM0WKbGyF"
      },
      "source": [
        "**First we train the model on cnn_daily mail and apply the cnn test data and check the results.**"
      ]
    },
    {
      "cell_type": "code",
      "metadata": {
        "id": "xh7_YnY0Xm-5"
      },
      "source": [
        "from transformers import PegasusForConditionalGeneration, PegasusTokenizer\n",
        "import torch\n",
        "from rouge_score import rouge_scorer"
      ],
      "execution_count": 60,
      "outputs": []
    },
    {
      "cell_type": "code",
      "metadata": {
        "id": "JupMKVsZX2RP"
      },
      "source": [
        "def model_train_pegasus(datasetname = 'google/pegasus-cnn_dailymail'):\n",
        "  dataset_name = datasetname \n",
        "  # check if cude is availabel if yes then use cuda for processing\n",
        "  device = 'cuda' if torch.cuda.is_available() else 'cpu'\n",
        "  tokenizer_pegasus = PegasusTokenizer.from_pretrained(dataset_name)\n",
        "  model = PegasusForConditionalGeneration.from_pretrained(dataset_name).to(device)\n",
        "  return tokenizer_pegasus,model\n",
        "\n",
        "tokenizer,model = model_train_pegasus() # trained  tokanizer and model"
      ],
      "execution_count": 61,
      "outputs": []
    },
    {
      "cell_type": "code",
      "metadata": {
        "id": "vJfBnPIuX47g"
      },
      "source": [
        "def model_abstractive_summary_gen(src_text,tokenizer,model):\n",
        "  batch = tokenizer(src_text, truncation=True, padding='longest', return_tensors=\"pt\") #gap sentence gentartion and encoding \n",
        "  translated = model.generate(**batch)\n",
        "  abstrct_sumtext = tokenizer.batch_decode(translated, skip_special_tokens=True) # decode\n",
        "  return abstrct_sumtext"
      ],
      "execution_count": 62,
      "outputs": []
    },
    {
      "cell_type": "code",
      "metadata": {
        "id": "pqUGiP7UTDcq"
      },
      "source": [
        "def check_the_rouge(summary,predicted):\n",
        "  r1 = [[],[],[]] # metrix for rouge 1 score index 0 for recall, 1 for precision and 2 for fmeasure \n",
        "  r2 = [[],[],[]] # metrix for rouge 2 score index 0 for recall, 1 for precision and 2 for fmeasure\n",
        "  rL = [[],[],[]] # metrix for rouge L score index 0 for recall, 1 for precision and 2 for fmeasure\n",
        "  scorer = rouge_scorer.RougeScorer(['rouge1','rouge2','rougeL'], use_stemmer=True)\n",
        "\n",
        "  for sc in range(len(summary)):\n",
        "    scores = scorer.score(str(summary[sc]),str(predicted[sc]))\n",
        "    r1[0].append(scores['rouge1'].recall)\n",
        "    r1[1].append(scores['rouge1'].precision)\n",
        "    r1[2].append(scores['rouge1'].fmeasure)\n",
        "    r2[0].append(scores['rouge2'].recall)\n",
        "    r2[1].append(scores['rouge2'].precision)\n",
        "    r2[2].append(scores['rouge2'].fmeasure)\n",
        "    rL[0].append(scores['rougeL'].recall)\n",
        "    rL[1].append(scores['rougeL'].precision)\n",
        "    rL[2].append(scores['rougeL'].fmeasure)\n",
        "\n",
        "  return r1,r2,rL"
      ],
      "execution_count": 63,
      "outputs": []
    },
    {
      "cell_type": "code",
      "metadata": {
        "colab": {
          "base_uri": "https://localhost:8080/"
        },
        "id": "J4NQ-KNRTDlo",
        "outputId": "0b063744-74c5-4b7d-b025-e9980fe334ae"
      },
      "source": [
        "predicted_test = []\n",
        "for artical in test_data_doc:\n",
        "  predicted_test.append(model_abstractive_summary_gen(artical,tokenizer,model))\n",
        "predicted_test"
      ],
      "execution_count": 64,
      "outputs": [
        {
          "output_type": "execute_result",
          "data": {
            "text/plain": [
              "[['Move would apply in pubs, clubs, supermarkets and off-licences in Scotland.<n>If introduced it would mean the legal minimum age for buying alcohol would be higher in Scotland than it is in the rest of Britain, where it is 18.'],\n",
              " ['Arsenal beat Burnley 1-0 in their Premier League clash at Turf Moor.<n>Aaron Ramsey scored the only goal of the game in the 12th minute.<n>The Gunners have now won eight games in a row in all competitions.'],\n",
              " [\"Two women aged 47 and 22, and two men aged 24 and 22, held at Manchester Airport in the early hours of this morning.<n>They were among eight relatives stopped at the Turkish border with Syria on April 1 with Waheed Ahmed, the 21-year-old son of Labour councillor Shakil Ahmed.<n>The group is understood to include Waheed's aunt, two of his male cousins, his cousin's wife and two of their children.<n>The four children on the trip aged one, three, eight and 11, have also been flown back to the UK.\"],\n",
              " [\"Bespoke tour operators Natural World Safaris is offering the trip.<n>Guests will spend time with Alexander Batalov, a Russian conservationist.<n>Batalov has spent the last 20 years trying to protect the rare tiger.<n>The Siberian tiger is one of the world's most endangered animals.\"]]"
            ]
          },
          "metadata": {},
          "execution_count": 64
        }
      ]
    },
    {
      "cell_type": "code",
      "metadata": {
        "id": "1AwKAuINTDoR"
      },
      "source": [
        "#check the rouge score of thetrained model on the cnn_dailymail test dataset \n",
        "r1,r2,rL =  check_the_rouge(test_data_doc,predicted_test)"
      ],
      "execution_count": 65,
      "outputs": []
    },
    {
      "cell_type": "code",
      "metadata": {
        "colab": {
          "base_uri": "https://localhost:8080/"
        },
        "id": "kiEI__nUTDqw",
        "outputId": "85e15f94-30a6-4039-81d7-3c5baa507759"
      },
      "source": [
        "import numpy as np\n",
        "#average recall of the test \n",
        "print('rouge 1 average recall : ' ,np.array(r1[0]).mean())\n",
        "print('rouge 2 average recall : ' ,np.array(r2[0]).mean())\n",
        "print('rouge L average recall : ' ,np.array(rL[0]).mean())\n",
        "print('rouge 1 average precision : ' ,np.array(r1[1]).mean())\n",
        "print('rouge 2 average precision : ' ,np.array(r2[1]).mean())\n",
        "print('rouge L average precision : ' ,np.array(rL[1]).mean())\n",
        "print('rouge 1 average fmeasure : ' ,np.array(r1[2]).mean())\n",
        "print('rouge 2 average fmeasure : ' ,np.array(r2[2]).mean())\n",
        "print('rouge L average fmeasure : ' ,np.array(rL[2]).mean())"
      ],
      "execution_count": 66,
      "outputs": [
        {
          "output_type": "stream",
          "name": "stdout",
          "text": [
            "rouge 1 average recall :  0.0733699244218588\n",
            "rouge 2 average recall :  0.06382249788191238\n",
            "rouge L average recall :  0.07074163906516293\n",
            "rouge 1 average precision :  0.9524768748963\n",
            "rouge 2 average precision :  0.765856534113707\n",
            "rouge L average precision :  0.8758762651402024\n",
            "rouge 1 average fmeasure :  0.13409800840310815\n",
            "rouge 2 average fmeasure :  0.11634714698776444\n",
            "rouge L average fmeasure :  0.12905533589606494\n"
          ]
        }
      ]
    },
    {
      "cell_type": "markdown",
      "metadata": {
        "id": "5AbKY--xgS-o"
      },
      "source": [
        "**Collect new data and apply the model on that and check rouge score**"
      ]
    },
    {
      "cell_type": "code",
      "metadata": {
        "id": "ktWkz5k0TDuR"
      },
      "source": [
        "links_list = ['https://7news.com.au/politics/world-politics/emmanuel-macron-tells-scott-morrison-trust-was-broken-after-aukus-submarine-deal-c-4358673',\n",
        "              'https://7news.com.au/sport/afl/afl-eagle-jones-charged-with-drink-driving-c-4359074',\n",
        "              'https://7news.com.au/politics/gladys-berejiklian/berejiklian-next-to-face-grilling-by-icac-c-4360136',\n",
        "              'https://7news.com.au/sunrise/on-the-show/covid-19-rapid-antigen-tests-now-available-at-supermarkets-and-pharmacies-c-4382586',\n",
        "              'https://7news.com.au/news/missing-person/nsw-police-issue-alert-for-kathleen-riethmuller-after-the-lane-cove-woman-mysteriously-vanished-c-4378401',\n",
        "              'https://7news.com.au/lifestyle/health-wellbeing/new-covid-19-cases-in-nsw-drop-to-low-not-seen-since-july-c-4377068',\n",
        "              'https://7news.com.au/politics/joyce-details-some-of-nationals-2050-deal-c-4377609',\n",
        "              'https://7news.com.au/news/vic/kill-the-bill-thousands-of-protesters-take-to-melbourne-streets-over-covid-19-pandemic-laws-c-4372996',\n",
        "              'https://7news.com.au/entertainment/tv/armorer-on-the-set-of-rust-says-she-has-no-idea-where-deadly-ammunition-that-killed-halyna-hutchins-came-from-c-4371273',\n",
        "              'https://7news.com.au/news/world/just-two-per-cent-of-elon-musks-wealth-could-solve-world-hunger-according-to-un-food-scarcity-organisation-c-4345980',\n",
        "              'https://www.abc.net.au/everyday/dating-as-a-single-mum-with-chronic-illness/100518792',\n",
        "              'https://www.abc.net.au/news/2021-11-01/real-estate-housing-affordability-four-corners/100572780',\n",
        "              'https://www.abc.net.au/news/2021-11-01/jana-pittman-how-australia-s-golden-girl-continues-to-surprise/100525802',\n",
        "              'https://www.abc.net.au/news/2021-10-31/meet-the-millions-of-people-who-are-not-employed/100582656',\n",
        "              'https://www.abc.net.au/news/science/2021-10-30/snakes-venomous-how-to-survive-a-bite/100406488',\n",
        "              'https://www.abc.net.au/news/2021-10-29/uq-researchers-unbreakable-phone-glass/100578398#:~:text=The%20researchers%20have%20developed%20a,TVs%2C%20computers%20and%20virtual%20reality'\n",
        "              'https://www.abc.net.au/news/2021-11-01/qld-coronavirus-covid-hospital-vaccinations/100574456',\n",
        "              'https://www.abc.net.au/news/2021-11-01/quarantine-free-travel-resumes-at-sydney-airport/100584228',\n",
        "              'https://www.abc.net.au/news/2021-11-01/westpac-share-buyback-asx-rises-head-of-rba-meeting/100584526',\n",
        "              'https://www.abc.net.au/news/2021-11-01/workers-at-melbourne-mcdonalds-allegedly-denied-paid-rest-breaks/100582146'\n",
        "              ]\n",
        "              # links of the some new artical from 7 news and ABC news "
      ],
      "execution_count": 67,
      "outputs": []
    },
    {
      "cell_type": "code",
      "metadata": {
        "id": "9sjNpIkUTHfC"
      },
      "source": [
        "# file scrape.py code \n",
        "from bs4 import BeautifulSoup\n",
        "from urllib.request import urlopen\n",
        "import re\n",
        "import pandas as pd\n",
        "\n",
        "class scrap:\n",
        "\n",
        "    src = []\n",
        "    summary = []\n",
        "    df = pd.DataFrame()\n",
        "\n",
        "    def __init__(self):\n",
        "        ''' constructor method for an class'''\n",
        "        self.src = []\n",
        "        self.summary = []\n",
        "\n",
        "\n",
        "    def preprocess_data(self,text):\n",
        "        '''it will preprocess the text which contain the number and any other special charaters and return the preprocess text'''\n",
        "        text = re.sub(r'\\s+',' ',text)  # remove the special char. from the text\n",
        "        text = re.sub(r'\\d','',text)\n",
        "        return text\n",
        "\n",
        "\n",
        "    def scrap_via_bs4(self,links):\n",
        "        'input link, it will scrap the data from the link and store in variable'\n",
        "        for link in links:\n",
        "            url = link\n",
        "            html = urlopen(url) # make an connection to the link and apply bs4\n",
        "            soup = BeautifulSoup(html, 'html.parser')\n",
        "            text = \"\"\n",
        "            title = \"\"\n",
        "            for paragraph in soup.find_all('p'):\n",
        "                text += paragraph.get_text()\n",
        "                process_text = self.preprocess_data(text)\n",
        "                process_text = '.'.join(process_text.split('.')) + '.'\n",
        "            for paragraph in soup.find_all('h1'):\n",
        "                title += paragraph.get_text()\n",
        "                process_title = self.preprocess_data(text)\n",
        "                process_title = '.'.join(process_title.split('.')) + '.'\n",
        "            self.src.append(text)\n",
        "            self.summary.append (title)\n",
        "\n",
        "    def genrate_data_frame(self):\n",
        "        ''' this function will genrate the data frame of the form the src and summary data.\n",
        "         first have to genrate scrape data from the url'''\n",
        "        self.df = pd.DataFrame({'text': self.src,\n",
        "                                'summary': self.summary})\n",
        "        return self.df\n",
        "\n",
        "    def create_csv(self,name):\n",
        "        ''' this function require file name with and extension .csv (other excel format are accepted) with the file path and create file of the scrapped dataset'''\n",
        "        self.df.to_csv(name)\n",
        "        print('File created')"
      ],
      "execution_count": 68,
      "outputs": []
    },
    {
      "cell_type": "code",
      "metadata": {
        "id": "UWrpZLp_TIDx"
      },
      "source": [
        "object = scrap()\n",
        "object.scrap_via_bs4(links_list) # scrape data from the news website\n",
        "df = object.genrate_data_frame()\n"
      ],
      "execution_count": 69,
      "outputs": []
    },
    {
      "cell_type": "code",
      "metadata": {
        "colab": {
          "base_uri": "https://localhost:8080/",
          "height": 204
        },
        "id": "WtGXzPp0bp5P",
        "outputId": "b0d3dde4-49cb-4884-c58e-95ec475a9510"
      },
      "source": [
        "df.head(5)"
      ],
      "execution_count": null,
      "outputs": [
        {
          "output_type": "execute_result",
          "data": {
            "text/html": [
              "<div>\n",
              "<style scoped>\n",
              "    .dataframe tbody tr th:only-of-type {\n",
              "        vertical-align: middle;\n",
              "    }\n",
              "\n",
              "    .dataframe tbody tr th {\n",
              "        vertical-align: top;\n",
              "    }\n",
              "\n",
              "    .dataframe thead th {\n",
              "        text-align: right;\n",
              "    }\n",
              "</style>\n",
              "<table border=\"1\" class=\"dataframe\">\n",
              "  <thead>\n",
              "    <tr style=\"text-align: right;\">\n",
              "      <th></th>\n",
              "      <th>text</th>\n",
              "      <th>summary</th>\n",
              "    </tr>\n",
              "  </thead>\n",
              "  <tbody>\n",
              "    <tr>\n",
              "      <th>0</th>\n",
              "      <td>French President Emmanuel Macron has told Aust...</td>\n",
              "      <td>Emmanuel Macron tells Scott Morrison ‘trust wa...</td>\n",
              "    </tr>\n",
              "    <tr>\n",
              "      <th>1</th>\n",
              "      <td>West Coast AFL forward Jamaine Jones will face...</td>\n",
              "      <td>‘Bitterly disappointed’: Eagles forward to fac...</td>\n",
              "    </tr>\n",
              "    <tr>\n",
              "      <th>2</th>\n",
              "      <td>Twenty-eight days after a corruption inquiry f...</td>\n",
              "      <td>Gladys Berejiklian to face ICAC on Friday afte...</td>\n",
              "    </tr>\n",
              "    <tr>\n",
              "      <th>3</th>\n",
              "      <td>Australians can now buy COVID-19 rapid tests a...</td>\n",
              "      <td>COVID-19 rapid antigen tests now available at ...</td>\n",
              "    </tr>\n",
              "    <tr>\n",
              "      <th>4</th>\n",
              "      <td>A 28-year-old woman has been reported missing ...</td>\n",
              "      <td>NSW Police issue alert for Kathleen Riethmulle...</td>\n",
              "    </tr>\n",
              "  </tbody>\n",
              "</table>\n",
              "</div>"
            ],
            "text/plain": [
              "                                                text                                            summary\n",
              "0  French President Emmanuel Macron has told Aust...  Emmanuel Macron tells Scott Morrison ‘trust wa...\n",
              "1  West Coast AFL forward Jamaine Jones will face...  ‘Bitterly disappointed’: Eagles forward to fac...\n",
              "2  Twenty-eight days after a corruption inquiry f...  Gladys Berejiklian to face ICAC on Friday afte...\n",
              "3  Australians can now buy COVID-19 rapid tests a...  COVID-19 rapid antigen tests now available at ...\n",
              "4  A 28-year-old woman has been reported missing ...  NSW Police issue alert for Kathleen Riethmulle..."
            ]
          },
          "metadata": {},
          "execution_count": 48
        }
      ]
    },
    {
      "cell_type": "code",
      "metadata": {
        "id": "ZMttrocQiOog",
        "colab": {
          "base_uri": "https://localhost:8080/"
        },
        "outputId": "61300e3f-9532-4a1a-b89c-dab6d8edc07a"
      },
      "source": [
        "#now genrate summarie suing the oretrain model cnn_daily mail using the new data\n",
        "predicted_new = []\n",
        "for artical in df.summary:\n",
        "  predicted_new.append(model_abstractive_summary_gen(artical,tokenizer,model))\n",
        "predicted_new "
      ],
      "execution_count": 71,
      "outputs": [
        {
          "output_type": "execute_result",
          "data": {
            "text/plain": [
              "[['Emmanuel Macron tells Scott Morrison ‘trust is broken’ after AUKUS submarine deal.<n>French president tells Morrison he will not seek re-election.'],\n",
              " ['Eagles set to face court over drinking driving charges.<n>‘Bitterly disappointed,’ says Eagles coach Andy Reid.<n>‘Bitterly disappointed,’ says Reid.<n>‘Bitterly disappointed,’ says Reid.'],\n",
              " ['Gladys Berejiklian to face ICAC on Friday after Daryl Maguire aired details of intimate relationship.<n> Gladys Berejiklian to face ICAC on Friday after Daryl Maguire aired details of intimate relationship.'],\n",
              " ['COVID-19 rapid antigen tests now available at supermarkets and pharmacies.<n>CoVID-19 rapid antigen tests now available at supermarkets and pharmacies.<n>CoVID-19 rapid antigen tests now available at supermarkets and pharmacies.'],\n",
              " ['NSW Police issue alert for Kathleen Riethmuller.<n>Lane Cove woman mysteriously vanished.<n>Police believe she may have been taken by traffickers.'],\n",
              " ['New COVID-19 cases in NSW drop to low not seen since JULY.<n>New COVID-19 cases in NSW drop to low not seen since JULY.'],\n",
              " ['Barnaby Joyce details some of Nationals deal to accept a net zero emissions 2050 target.<n>Joyce: Nationals deal to accept a net zero emissions 2050 target.<n>Joyce: Nationals deal to accept a net zero emissions 2050 target.'],\n",
              " ['Thousands of protesters take to streets in Melbourne over COVID-19 pandemic laws.<n>Demonstrators claim the laws are unconstitutional.<n>Demonstrators say they will not back down.'],\n",
              " [\"Armorer on the set of 'Rust' says she has 'NO IDEA' where deadly ammunition that killed Halyna Hutchins came from.<n>Says she has 'NO IDEA' where deadly ammunition that killed Halyna Hutchins came from.\"],\n",
              " ['Just TWO PER CENT of Elon Musk’s wealth could solve world hunger, according to UN food scarcity organisation.<n>Musk’s wealth could solve world hunger, according to UN food scarcity organisation.<n>Just two per cent of Musk’s wealth could solve world hunger, according to UN food scarcity organisation.'],\n",
              " [\"Dating as a single mother with chronic illness, I never think 'I wish I had a man to help me'<n>I never think 'I wish I had a man to help me'\"],\n",
              " [\"From a 'class divide' to 'intergenerational theft', Australia's real estate frenzy leaves many behind.<n>From a 'class divide' to 'intergenerational theft', Australia's real estate frenzy leaves many behind.\"],\n",
              " [\"'Drama Jana' no more: How Australia's one-time golden girl Jana Pittman continues to surprise.<n>'Drama Jana' no more: How Australia's one-time golden girl Jana Pittman continues to surprise.<n>'Drama Jana' no more: How Australia's one-time golden girl Jana Pittman continues to surprise.\"],\n",
              " [\"Meet the millions of people who aren't employed, who aren't considered 'unemployed'<n>The millions of people who aren't employed, who aren't considered 'unemployed'<n>The millions of people who aren't employed, who aren't considered 'unemployed'<n>The millions of people who aren't employed, who aren't considered 'unemployed'\"],\n",
              " [\"How to survive a venomous snakebite — from a professional who's been bitten before.<n>How to survive a venomous snakebite — from a professional who's been bitten before.<n>How to survive a venomous snakebite — from a professional who's been bitten before.\"],\n",
              " [\"Composite glass breakthrough by Queensland researchers could help make phone screens 'unbreakable'<n>Glass breakthrough could help make phone screens 'unbreakable', researchers say.\"],\n",
              " ['COVID-19 restrictions on international flights are eased.<n>Back to Mail Online home.<n>Back to the page you came from.<n>Back to the page you came from.'],\n",
              " [\"Westpac launches $3.5 billion share buyback program.<n>Share price rises ahead of November Reserve Bank meeting.<n>Share buybacks are a big part of Westpac's strategy to return value to shareholders.\"],\n",
              " [\"McDonald's franchisee accused of deliberately denying young workers paid breaks.<n>McDonald's franchisee accused of deliberately denying young workers paid breaks.<n>McDonald's franchisee accused of deliberately denying young workers paid breaks.\"]]"
            ]
          },
          "metadata": {},
          "execution_count": 71
        }
      ]
    },
    {
      "cell_type": "code",
      "metadata": {
        "id": "urGkSS1MiJZ8"
      },
      "source": [
        "# check the rouge score for new data \n",
        "r1,r2,rL =  check_the_rouge(df.summary,predicted_new)"
      ],
      "execution_count": 72,
      "outputs": []
    },
    {
      "cell_type": "code",
      "metadata": {
        "id": "ZvhXaCCBlFlx",
        "colab": {
          "base_uri": "https://localhost:8080/"
        },
        "outputId": "b00b55fb-9386-49da-f80a-4a45bd0e2979"
      },
      "source": [
        "#average recall of the test on new data\n",
        "print('rouge 1 average recall : ' ,np.array(r1[0]).mean())\n",
        "print('rouge 2 average recall : ' ,np.array(r2[0]).mean())\n",
        "print('rouge L average recall : ' ,np.array(rL[0]).mean())\n",
        "print('rouge 1 average precision : ' ,np.array(r1[1]).mean())\n",
        "print('rouge 2 average precision : ' ,np.array(r2[1]).mean())\n",
        "print('rouge L average precision : ' ,np.array(rL[1]).mean())\n",
        "print('rouge 1 average fmeasure : ' ,np.array(r1[2]).mean())\n",
        "print('rouge 2 average fmeasure : ' ,np.array(r2[2]).mean())\n",
        "print('rouge L average fmeasure : ' ,np.array(rL[2]).mean())"
      ],
      "execution_count": 73,
      "outputs": [
        {
          "output_type": "stream",
          "name": "stdout",
          "text": [
            "rouge 1 average recall :  0.9477443609022558\n",
            "rouge 2 average recall :  0.9043500359289832\n",
            "rouge L average recall :  0.9302005012531327\n",
            "rouge 1 average precision :  0.4153292311479277\n",
            "rouge 2 average precision :  0.37881958310131747\n",
            "rouge L average precision :  0.40767119717410427\n",
            "rouge 1 average fmeasure :  0.5701204916587999\n",
            "rouge 2 average fmeasure :  0.5265229551001788\n",
            "rouge L average fmeasure :  0.5595346303997439\n"
          ]
        }
      ]
    },
    {
      "cell_type": "code",
      "metadata": {
        "id": "qjby97JRsT7N"
      },
      "source": [
        "df['predicted'] = predicted_new"
      ],
      "execution_count": 74,
      "outputs": []
    },
    {
      "cell_type": "code",
      "metadata": {
        "id": "JOPghrwWtj87",
        "outputId": "65269a81-a46b-4a65-bce1-09f526ffe896",
        "colab": {
          "base_uri": "https://localhost:8080/"
        }
      },
      "source": [
        "from google.colab import drive\n",
        "drive.mount('drive')\n",
        "df.to_csv('arth.csv')\n",
        "!cp arth.csv \"drive/My Drive/\"\n",
        "#store .csv file in drive"
      ],
      "execution_count": 75,
      "outputs": [
        {
          "output_type": "stream",
          "name": "stdout",
          "text": [
            "Drive already mounted at drive; to attempt to forcibly remount, call drive.mount(\"drive\", force_remount=True).\n"
          ]
        }
      ]
    },
    {
      "cell_type": "code",
      "metadata": {
        "id": "ShiqhA3otrNz",
        "outputId": "847e16ef-e3b5-408d-807e-25e58e8d1eec",
        "colab": {
          "base_uri": "https://localhost:8080/",
          "height": 97
        }
      },
      "source": [
        "df.head(1)"
      ],
      "execution_count": 76,
      "outputs": [
        {
          "output_type": "execute_result",
          "data": {
            "text/html": [
              "<div>\n",
              "<style scoped>\n",
              "    .dataframe tbody tr th:only-of-type {\n",
              "        vertical-align: middle;\n",
              "    }\n",
              "\n",
              "    .dataframe tbody tr th {\n",
              "        vertical-align: top;\n",
              "    }\n",
              "\n",
              "    .dataframe thead th {\n",
              "        text-align: right;\n",
              "    }\n",
              "</style>\n",
              "<table border=\"1\" class=\"dataframe\">\n",
              "  <thead>\n",
              "    <tr style=\"text-align: right;\">\n",
              "      <th></th>\n",
              "      <th>text</th>\n",
              "      <th>summary</th>\n",
              "      <th>predicted</th>\n",
              "    </tr>\n",
              "  </thead>\n",
              "  <tbody>\n",
              "    <tr>\n",
              "      <th>0</th>\n",
              "      <td>French President Emmanuel Macron has told Aust...</td>\n",
              "      <td>Emmanuel Macron tells Scott Morrison ‘trust wa...</td>\n",
              "      <td>[Emmanuel Macron tells Scott Morrison ‘trust i...</td>\n",
              "    </tr>\n",
              "  </tbody>\n",
              "</table>\n",
              "</div>"
            ],
            "text/plain": [
              "                                                text  ...                                          predicted\n",
              "0  French President Emmanuel Macron has told Aust...  ...  [Emmanuel Macron tells Scott Morrison ‘trust i...\n",
              "\n",
              "[1 rows x 3 columns]"
            ]
          },
          "metadata": {},
          "execution_count": 76
        }
      ]
    }
  ]
}