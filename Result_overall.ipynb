{
  "nbformat": 4,
  "nbformat_minor": 0,
  "metadata": {
    "colab": {
      "name": "Result_overall.ipynb",
      "provenance": [],
      "authorship_tag": "ABX9TyOaToS7SrV9j3p62Q34Rmjl",
      "include_colab_link": true
    },
    "kernelspec": {
      "name": "python3",
      "display_name": "Python 3"
    },
    "language_info": {
      "name": "python"
    }
  },
  "cells": [
    {
      "cell_type": "markdown",
      "metadata": {
        "id": "view-in-github",
        "colab_type": "text"
      },
      "source": [
        "<a href=\"https://colab.research.google.com/github/patelarth/pegasus-onnews-ads/blob/main/Result_overall.ipynb\" target=\"_parent\"><img src=\"https://colab.research.google.com/assets/colab-badge.svg\" alt=\"Open In Colab\"/></a>"
      ]
    },
    {
      "cell_type": "code",
      "metadata": {
        "id": "eQ4Vr4Q_mXQ1",
        "outputId": "ff69621a-5e52-4729-b0e4-082ae7f1d45b",
        "colab": {
          "base_uri": "https://localhost:8080/"
        }
      },
      "source": [
        "from google.colab import drive\n",
        "drive.mount('drive')"
      ],
      "execution_count": 2,
      "outputs": [
        {
          "output_type": "stream",
          "name": "stdout",
          "text": [
            "Mounted at drive\n"
          ]
        }
      ]
    },
    {
      "cell_type": "code",
      "metadata": {
        "id": "E1ThCz_hqKiR",
        "outputId": "e98c3e78-5681-427f-a6ed-3ef34b98332b",
        "colab": {
          "base_uri": "https://localhost:8080/"
        }
      },
      "source": [
        "cd drive/MyDrive/"
      ],
      "execution_count": 3,
      "outputs": [
        {
          "output_type": "stream",
          "name": "stdout",
          "text": [
            "/content/drive/MyDrive\n"
          ]
        }
      ]
    },
    {
      "cell_type": "code",
      "metadata": {
        "id": "uyVXl8mnqQRo",
        "outputId": "93b33d79-9277-40b7-c981-716983687f87",
        "colab": {
          "base_uri": "https://localhost:8080/",
          "height": 162
        }
      },
      "source": [
        "import pandas as pd\n",
        "import numpy as np\n",
        "arth_cnn = pd.read_csv('arth.csv')\n",
        "arth_cnn.head(2)"
      ],
      "execution_count": 22,
      "outputs": [
        {
          "output_type": "execute_result",
          "data": {
            "text/html": [
              "<div>\n",
              "<style scoped>\n",
              "    .dataframe tbody tr th:only-of-type {\n",
              "        vertical-align: middle;\n",
              "    }\n",
              "\n",
              "    .dataframe tbody tr th {\n",
              "        vertical-align: top;\n",
              "    }\n",
              "\n",
              "    .dataframe thead th {\n",
              "        text-align: right;\n",
              "    }\n",
              "</style>\n",
              "<table border=\"1\" class=\"dataframe\">\n",
              "  <thead>\n",
              "    <tr style=\"text-align: right;\">\n",
              "      <th></th>\n",
              "      <th>Unnamed: 0</th>\n",
              "      <th>text</th>\n",
              "      <th>summary</th>\n",
              "      <th>predicted</th>\n",
              "    </tr>\n",
              "  </thead>\n",
              "  <tbody>\n",
              "    <tr>\n",
              "      <th>0</th>\n",
              "      <td>0</td>\n",
              "      <td>French President Emmanuel Macron has told Aust...</td>\n",
              "      <td>Emmanuel Macron tells Scott Morrison ‘trust wa...</td>\n",
              "      <td>['Emmanuel Macron tells Scott Morrison ‘trust ...</td>\n",
              "    </tr>\n",
              "    <tr>\n",
              "      <th>1</th>\n",
              "      <td>1</td>\n",
              "      <td>West Coast AFL forward Jamaine Jones will face...</td>\n",
              "      <td>‘Bitterly disappointed’: Eagles forward to fac...</td>\n",
              "      <td>['Eagles set to face court over drinking drivi...</td>\n",
              "    </tr>\n",
              "  </tbody>\n",
              "</table>\n",
              "</div>"
            ],
            "text/plain": [
              "   Unnamed: 0  ...                                          predicted\n",
              "0           0  ...  ['Emmanuel Macron tells Scott Morrison ‘trust ...\n",
              "1           1  ...  ['Eagles set to face court over drinking drivi...\n",
              "\n",
              "[2 rows x 4 columns]"
            ]
          },
          "metadata": {},
          "execution_count": 22
        }
      ]
    },
    {
      "cell_type": "code",
      "metadata": {
        "id": "rdyhjwmwqaG5",
        "outputId": "dc437181-b2ed-4a9f-b7ae-289a59579c1a",
        "colab": {
          "base_uri": "https://localhost:8080/",
          "height": 199
        }
      },
      "source": [
        "bhagya_wikihow = pd.read_csv('pegasus-wikihow.csv')\n",
        "bhagya_wikihow.head(2)"
      ],
      "execution_count": 10,
      "outputs": [
        {
          "output_type": "execute_result",
          "data": {
            "text/html": [
              "<div>\n",
              "<style scoped>\n",
              "    .dataframe tbody tr th:only-of-type {\n",
              "        vertical-align: middle;\n",
              "    }\n",
              "\n",
              "    .dataframe tbody tr th {\n",
              "        vertical-align: top;\n",
              "    }\n",
              "\n",
              "    .dataframe thead th {\n",
              "        text-align: right;\n",
              "    }\n",
              "</style>\n",
              "<table border=\"1\" class=\"dataframe\">\n",
              "  <thead>\n",
              "    <tr style=\"text-align: right;\">\n",
              "      <th></th>\n",
              "      <th>model_trained_on</th>\n",
              "      <th>text_source</th>\n",
              "      <th>original_summary</th>\n",
              "      <th>predicted_summary</th>\n",
              "      <th>recall</th>\n",
              "      <th>precision</th>\n",
              "      <th>fmeasure</th>\n",
              "      <th>human_evaluation</th>\n",
              "    </tr>\n",
              "  </thead>\n",
              "  <tbody>\n",
              "    <tr>\n",
              "      <th>0</th>\n",
              "      <td>pegasus-wikihow</td>\n",
              "      <td>wikihow</td>\n",
              "      <td>How to Set Up a Tent</td>\n",
              "      <td>Learn how to set up a tent with this wikiHow a...</td>\n",
              "      <td>1.0</td>\n",
              "      <td>0.181818</td>\n",
              "      <td>0.307692</td>\n",
              "      <td>2</td>\n",
              "    </tr>\n",
              "    <tr>\n",
              "      <th>1</th>\n",
              "      <td>pegasus-wikihow</td>\n",
              "      <td>wikihow</td>\n",
              "      <td>How to Publish a Novel</td>\n",
              "      <td>Learn how to write a manuscript and find a lit...</td>\n",
              "      <td>0.6</td>\n",
              "      <td>0.100000</td>\n",
              "      <td>0.171429</td>\n",
              "      <td>4</td>\n",
              "    </tr>\n",
              "  </tbody>\n",
              "</table>\n",
              "</div>"
            ],
            "text/plain": [
              "  model_trained_on text_source  ...  fmeasure human_evaluation\n",
              "0  pegasus-wikihow     wikihow  ...  0.307692                2\n",
              "1  pegasus-wikihow     wikihow  ...  0.171429                4\n",
              "\n",
              "[2 rows x 8 columns]"
            ]
          },
          "metadata": {},
          "execution_count": 10
        }
      ]
    },
    {
      "cell_type": "code",
      "metadata": {
        "id": "pAtJwZoPqlEJ",
        "outputId": "6e0e7c4f-4c25-49a0-c510-f111a6e6419a",
        "colab": {
          "base_uri": "https://localhost:8080/",
          "height": 233
        }
      },
      "source": [
        "Nakul_reddittifu = pd.read_csv('reddit_tifu.csv')\n",
        "Nakul_reddittifu.head(2)"
      ],
      "execution_count": 11,
      "outputs": [
        {
          "output_type": "execute_result",
          "data": {
            "text/html": [
              "<div>\n",
              "<style scoped>\n",
              "    .dataframe tbody tr th:only-of-type {\n",
              "        vertical-align: middle;\n",
              "    }\n",
              "\n",
              "    .dataframe tbody tr th {\n",
              "        vertical-align: top;\n",
              "    }\n",
              "\n",
              "    .dataframe thead th {\n",
              "        text-align: right;\n",
              "    }\n",
              "</style>\n",
              "<table border=\"1\" class=\"dataframe\">\n",
              "  <thead>\n",
              "    <tr style=\"text-align: right;\">\n",
              "      <th></th>\n",
              "      <th>model</th>\n",
              "      <th>data_source</th>\n",
              "      <th>humansummary</th>\n",
              "      <th>predicted_summary</th>\n",
              "      <th>roughscorer</th>\n",
              "      <th>precision</th>\n",
              "      <th>recall</th>\n",
              "      <th>fmeasure</th>\n",
              "      <th>Human_evaluation</th>\n",
              "    </tr>\n",
              "  </thead>\n",
              "  <tbody>\n",
              "    <tr>\n",
              "      <th>0</th>\n",
              "      <td>Reddit_tifu</td>\n",
              "      <td>articles</td>\n",
              "      <td>comprehensive research data management is fund...</td>\n",
              "      <td>['data management is fundamental to ensuring r...</td>\n",
              "      <td>rouge1</td>\n",
              "      <td>0.887097</td>\n",
              "      <td>0.887097</td>\n",
              "      <td>0.887097</td>\n",
              "      <td>4</td>\n",
              "    </tr>\n",
              "    <tr>\n",
              "      <th>1</th>\n",
              "      <td>Reddit_tifu</td>\n",
              "      <td>articles</td>\n",
              "      <td>collection and open sharing of wastewater base...</td>\n",
              "      <td>['collection and open sharing of wastewater ba...</td>\n",
              "      <td>rouge1</td>\n",
              "      <td>1.000000</td>\n",
              "      <td>0.668478</td>\n",
              "      <td>0.801303</td>\n",
              "      <td>3</td>\n",
              "    </tr>\n",
              "  </tbody>\n",
              "</table>\n",
              "</div>"
            ],
            "text/plain": [
              "         model data_source  ...  fmeasure Human_evaluation\n",
              "0  Reddit_tifu    articles  ...  0.887097                4\n",
              "1  Reddit_tifu    articles  ...  0.801303                3\n",
              "\n",
              "[2 rows x 9 columns]"
            ]
          },
          "metadata": {},
          "execution_count": 11
        }
      ]
    },
    {
      "cell_type": "code",
      "metadata": {
        "id": "mpA_RF7zw0Vu",
        "outputId": "4cc33148-c12f-4101-80a8-8520742bb7ef",
        "colab": {
          "base_uri": "https://localhost:8080/",
          "height": 230
        }
      },
      "source": [
        "danish_xsum = pd.read_csv('danish_xsum.csv')\n",
        "danish_xsum.head(2)"
      ],
      "execution_count": 25,
      "outputs": [
        {
          "output_type": "execute_result",
          "data": {
            "text/html": [
              "<div>\n",
              "<style scoped>\n",
              "    .dataframe tbody tr th:only-of-type {\n",
              "        vertical-align: middle;\n",
              "    }\n",
              "\n",
              "    .dataframe tbody tr th {\n",
              "        vertical-align: top;\n",
              "    }\n",
              "\n",
              "    .dataframe thead th {\n",
              "        text-align: right;\n",
              "    }\n",
              "</style>\n",
              "<table border=\"1\" class=\"dataframe\">\n",
              "  <thead>\n",
              "    <tr style=\"text-align: right;\">\n",
              "      <th></th>\n",
              "      <th>Unnamed: 0</th>\n",
              "      <th>model</th>\n",
              "      <th>source</th>\n",
              "      <th>original summary</th>\n",
              "      <th>predicted</th>\n",
              "      <th>recall</th>\n",
              "      <th>precision</th>\n",
              "      <th>fmeasure</th>\n",
              "      <th>human_evaluation</th>\n",
              "    </tr>\n",
              "  </thead>\n",
              "  <tbody>\n",
              "    <tr>\n",
              "      <th>0</th>\n",
              "      <td>0</td>\n",
              "      <td>xsum</td>\n",
              "      <td>bbc</td>\n",
              "      <td>Cleo Smith: Missing 4-year-old found alive in ...</td>\n",
              "      <td>All images are copyrighted.</td>\n",
              "      <td>0.000000</td>\n",
              "      <td>0.00</td>\n",
              "      <td>0.000000</td>\n",
              "      <td>0</td>\n",
              "    </tr>\n",
              "    <tr>\n",
              "      <th>1</th>\n",
              "      <td>1</td>\n",
              "      <td>xsum</td>\n",
              "      <td>bbc</td>\n",
              "      <td>Ethiopia's war one year on: How to end the suf...</td>\n",
              "      <td>The Ethiopian capital, Addis Ababa, is on edge.</td>\n",
              "      <td>0.181818</td>\n",
              "      <td>0.25</td>\n",
              "      <td>0.210526</td>\n",
              "      <td>2</td>\n",
              "    </tr>\n",
              "  </tbody>\n",
              "</table>\n",
              "</div>"
            ],
            "text/plain": [
              "   Unnamed: 0 model source  ... precision  fmeasure  human_evaluation\n",
              "0           0  xsum    bbc  ...      0.00  0.000000                 0\n",
              "1           1  xsum    bbc  ...      0.25  0.210526                 2\n",
              "\n",
              "[2 rows x 9 columns]"
            ]
          },
          "metadata": {},
          "execution_count": 25
        }
      ]
    },
    {
      "cell_type": "code",
      "metadata": {
        "id": "ZJ1NuupEq5cJ",
        "outputId": "da3e6d30-816f-4bd6-ac56-81495a632fc2",
        "colab": {
          "base_uri": "https://localhost:8080/"
        }
      },
      "source": [
        "!pip install rouge-score\n",
        "from rouge_score import rouge_scorer\n",
        "def check_the_rouge(summary,predicted):\n",
        "  r1 = [[],[],[]] # metrix for rouge 1 score index 0 for recall, 1 for precision and 2 for fmeasure \n",
        "  r2 = [[],[],[]] # metrix for rouge 2 score index 0 for recall, 1 for precision and 2 for fmeasure\n",
        "  rL = [[],[],[]] # metrix for rouge L score index 0 for recall, 1 for precision and 2 for fmeasure\n",
        "  scorer = rouge_scorer.RougeScorer(['rouge1','rouge2','rougeL'], use_stemmer=True)\n",
        "\n",
        "  for sc in range(len(summary)):\n",
        "    scores = scorer.score(str(summary[sc]),str(predicted[sc]))\n",
        "    r1[0].append(scores['rouge1'].recall)\n",
        "    r1[1].append(scores['rouge1'].precision)\n",
        "    r1[2].append(scores['rouge1'].fmeasure)\n",
        "    r2[0].append(scores['rouge2'].recall)\n",
        "    r2[1].append(scores['rouge2'].precision)\n",
        "    r2[2].append(scores['rouge2'].fmeasure)\n",
        "    rL[0].append(scores['rougeL'].recall)\n",
        "    rL[1].append(scores['rougeL'].precision)\n",
        "    rL[2].append(scores['rougeL'].fmeasure)\n",
        "\n",
        "  return r1,r2,rL"
      ],
      "execution_count": 14,
      "outputs": [
        {
          "output_type": "stream",
          "name": "stdout",
          "text": [
            "Requirement already satisfied: rouge-score in /usr/local/lib/python3.7/dist-packages (0.0.4)\n",
            "Requirement already satisfied: absl-py in /usr/local/lib/python3.7/dist-packages (from rouge-score) (0.12.0)\n",
            "Requirement already satisfied: six>=1.14.0 in /usr/local/lib/python3.7/dist-packages (from rouge-score) (1.15.0)\n",
            "Requirement already satisfied: nltk in /usr/local/lib/python3.7/dist-packages (from rouge-score) (3.2.5)\n",
            "Requirement already satisfied: numpy in /usr/local/lib/python3.7/dist-packages (from rouge-score) (1.19.5)\n"
          ]
        }
      ]
    },
    {
      "cell_type": "code",
      "metadata": {
        "id": "gAKULFlBrtoc"
      },
      "source": [
        "r1_bhagya,r2_bhagya,rL_bhagya =  check_the_rouge(bhagya_wikihow.original_summary,bhagya_wikihow.predicted_summary)"
      ],
      "execution_count": 18,
      "outputs": []
    },
    {
      "cell_type": "code",
      "metadata": {
        "id": "FaEpg9AVuLdU",
        "outputId": "b8cf287f-6bb9-48c5-c8e7-268e73d65798",
        "colab": {
          "base_uri": "https://localhost:8080/"
        }
      },
      "source": [
        "print('rouge 1 average recall : ' ,np.array(r1_bhagya[0]).mean())\n",
        "print('rouge 2 average recall : ' ,np.array(r2_bhagya[0]).mean())\n",
        "print('rouge L average recall : ' ,np.array(rL_bhagya[0]).mean())\n",
        "print('rouge 1 average precision : ' ,np.array(r1_bhagya[1]).mean())\n",
        "print('rouge 2 average precision : ' ,np.array(r2_bhagya[1]).mean())\n",
        "print('rouge L average precision : ' ,np.array(rL_bhagya[1]).mean())\n",
        "print('rouge 1 average fmeasure : ' ,np.array(r1_bhagya[2]).mean())\n",
        "print('rouge 2 average fmeasure : ' ,np.array(r2_bhagya[2]).mean())\n",
        "print('rouge L average fmeasure : ' ,np.array(rL_bhagya[2]).mean())"
      ],
      "execution_count": 19,
      "outputs": [
        {
          "output_type": "stream",
          "name": "stdout",
          "text": [
            "rouge 1 average recall :  0.4747798517271031\n",
            "rouge 2 average recall :  0.31353761950124176\n",
            "rouge L average recall :  0.4482825363728769\n",
            "rouge 1 average precision :  0.15172251631574216\n",
            "rouge 2 average precision :  0.06365846492885302\n",
            "rouge L average precision :  0.13184559594098802\n",
            "rouge 1 average fmeasure :  0.17942558649720783\n",
            "rouge 2 average fmeasure :  0.09777948702228925\n",
            "rouge L average fmeasure :  0.1644552233467039\n"
          ]
        }
      ]
    },
    {
      "cell_type": "code",
      "metadata": {
        "id": "ew-m7oaOuZ5C"
      },
      "source": [
        "r1_nakul,r2_nakul,rL_nakul =  check_the_rouge(Nakul_reddittifu.humansummary,Nakul_reddittifu.predicted_summary)"
      ],
      "execution_count": 20,
      "outputs": []
    },
    {
      "cell_type": "code",
      "metadata": {
        "id": "Tx-FTvK3u5m8",
        "outputId": "441f3e36-195c-49a6-ea55-05886625562a",
        "colab": {
          "base_uri": "https://localhost:8080/"
        }
      },
      "source": [
        "print('rouge 1 average recall : ' ,np.array(r1_nakul[0]).mean())\n",
        "print('rouge 2 average recall : ' ,np.array(r2_nakul[0]).mean())\n",
        "print('rouge L average recall : ' ,np.array(rL_nakul[0]).mean())\n",
        "print('rouge 1 average precision : ' ,np.array(r1_nakul[1]).mean())\n",
        "print('rouge 2 average precision : ' ,np.array(r2_nakul[1]).mean())\n",
        "print('rouge L average precision : ' ,np.array(rL_nakul[1]).mean())\n",
        "print('rouge 1 average fmeasure : ' ,np.array(r1_nakul[2]).mean())\n",
        "print('rouge 2 average fmeasure : ' ,np.array(r2_nakul[2]).mean())\n",
        "print('rouge L average fmeasure : ' ,np.array(rL_nakul[2]).mean())"
      ],
      "execution_count": 21,
      "outputs": [
        {
          "output_type": "stream",
          "name": "stdout",
          "text": [
            "rouge 1 average recall :  0.7189656170067522\n",
            "rouge 2 average recall :  0.6753969596498469\n",
            "rouge L average recall :  0.6870513175186833\n",
            "rouge 1 average precision :  0.7683961188354439\n",
            "rouge 2 average precision :  0.7276551839764259\n",
            "rouge L average precision :  0.7379086761875163\n",
            "rouge 1 average fmeasure :  0.7263161600606725\n",
            "rouge 2 average fmeasure :  0.6842491141576921\n",
            "rouge L average fmeasure :  0.695438777691884\n"
          ]
        }
      ]
    },
    {
      "cell_type": "code",
      "metadata": {
        "id": "bOm_qAVDvYA8"
      },
      "source": [
        "r1_arth,r2_arth,rL_arth =  check_the_rouge(arth_cnn.summary,arth_cnn.predicted)"
      ],
      "execution_count": 23,
      "outputs": []
    },
    {
      "cell_type": "code",
      "metadata": {
        "id": "NWatf0KSwLiV",
        "outputId": "60ddee7d-e149-4036-da3a-cdd0b80c17b9",
        "colab": {
          "base_uri": "https://localhost:8080/"
        }
      },
      "source": [
        "print('rouge 1 average recall : ' ,np.array(r1_arth[0]).mean())\n",
        "print('rouge 2 average recall : ' ,np.array(r2_arth[0]).mean())\n",
        "print('rouge L average recall : ' ,np.array(rL_arth[0]).mean())\n",
        "print('rouge 1 average precision : ' ,np.array(r1_arth[1]).mean())\n",
        "print('rouge 2 average precision : ' ,np.array(r2_arth[1]).mean())\n",
        "print('rouge L average precision : ' ,np.array(rL_arth[1]).mean())\n",
        "print('rouge 1 average fmeasure : ' ,np.array(r1_arth[2]).mean())\n",
        "print('rouge 2 average fmeasure : ' ,np.array(r2_arth[2]).mean())\n",
        "print('rouge L average fmeasure : ' ,np.array(rL_arth[2]).mean())"
      ],
      "execution_count": 24,
      "outputs": [
        {
          "output_type": "stream",
          "name": "stdout",
          "text": [
            "rouge 1 average recall :  0.9477443609022558\n",
            "rouge 2 average recall :  0.9043500359289832\n",
            "rouge L average recall :  0.9302005012531327\n",
            "rouge 1 average precision :  0.4153292311479277\n",
            "rouge 2 average precision :  0.37881958310131747\n",
            "rouge L average precision :  0.40767119717410427\n",
            "rouge 1 average fmeasure :  0.5701204916587999\n",
            "rouge 2 average fmeasure :  0.5265229551001788\n",
            "rouge L average fmeasure :  0.5595346303997439\n"
          ]
        }
      ]
    },
    {
      "cell_type": "code",
      "metadata": {
        "id": "c5bivODgxDpQ"
      },
      "source": [
        "r1_danish,r2_danish,rL_danish =  check_the_rouge(danish_xsum['original summary'],danish_xsum.predicted)"
      ],
      "execution_count": 29,
      "outputs": []
    },
    {
      "cell_type": "code",
      "metadata": {
        "id": "46ng7LzfxD4c",
        "outputId": "02e8c2fa-1f2d-4d38-d341-03ef80849386",
        "colab": {
          "base_uri": "https://localhost:8080/"
        }
      },
      "source": [
        "print('rouge 1 average recall : ' ,np.array(r1_danish[0]).mean())\n",
        "print('rouge 2 average recall : ' ,np.array(r2_danish[0]).mean())\n",
        "print('rouge L average recall : ' ,np.array(rL_danish[0]).mean())\n",
        "print('rouge 1 average precision : ' ,np.array(r1_danish[1]).mean())\n",
        "print('rouge 2 average precision : ' ,np.array(r2_danish[1]).mean())\n",
        "print('rouge L average precision : ' ,np.array(rL_danish[1]).mean())\n",
        "print('rouge 1 average fmeasure : ' ,np.array(r1_danish[2]).mean())\n",
        "print('rouge 2 average fmeasure : ' ,np.array(r2_danish[2]).mean())\n",
        "print('rouge L average fmeasure : ' ,np.array(rL_danish[2]).mean())"
      ],
      "execution_count": 30,
      "outputs": [
        {
          "output_type": "stream",
          "name": "stdout",
          "text": [
            "rouge 1 average recall :  0.16318181818181818\n",
            "rouge 2 average recall :  0.00909090909090909\n",
            "rouge L average recall :  0.13464646464646463\n",
            "rouge 1 average precision :  0.09900134063749624\n",
            "rouge 2 average precision :  0.005555555555555555\n",
            "rouge L average precision :  0.07689035665580288\n",
            "rouge 1 average fmeasure :  0.11463846475043127\n",
            "rouge 2 average fmeasure :  0.006896551724137931\n",
            "rouge L average fmeasure :  0.09141053605773178\n"
          ]
        }
      ]
    },
    {
      "cell_type": "code",
      "metadata": {
        "id": "kPO1rCHPyQTO"
      },
      "source": [
        "df_r1 = pd.DataFrame({'cnn':[np.array(r1_arth[0]).mean(),np.array(r1_arth[1]).mean(),np.array(r1_arth[2]).mean()],\n",
        "                      'xsum':[np.array(r1_danish[0]).mean(),np.array(r1_danish[1]).mean(),np.array(r1_danish[2]).mean()],\n",
        "                      'reddittifu': [np.array(r1_nakul[0]).mean(),np.array(r1_nakul[1]).mean(),np.array(r1_nakul[2]).mean()],\n",
        "                      'wikihow': [np.array(r1_bhagya[0]).mean(),np.array(r1_bhagya[1]).mean(),np.array(r1_bhagya[2]).mean()],\n",
        "                      },index = ['Recall','Precision','fmeasure'])\n",
        "df_r2 = pd.DataFrame({'cnn':[np.array(r2_arth[0]).mean(),np.array(r2_arth[1]).mean(),np.array(r2_arth[2]).mean()],\n",
        "                      'xsum':[np.array(r2_danish[0]).mean(),np.array(r2_danish[1]).mean(),np.array(r2_danish[2]).mean()],\n",
        "                      'reddittifu': [np.array(r2_nakul[0]).mean(),np.array(r2_nakul[1]).mean(),np.array(r2_nakul[2]).mean()],\n",
        "                      'wikihow': [np.array(r2_bhagya[0]).mean(),np.array(r2_bhagya[1]).mean(),np.array(r2_bhagya[2]).mean()],\n",
        "                      },index = ['Recall','Precision','fmeasure'])\n",
        "df_rL = pd.DataFrame({'cnn':[np.array(rL_arth[0]).mean(),np.array(rL_arth[1]).mean(),np.array(rL_arth[2]).mean()],\n",
        "                      'xsum':[np.array(rL_danish[0]).mean(),np.array(rL_danish[1]).mean(),np.array(rL_danish[2]).mean()],\n",
        "                      'reddittifu': [np.array(rL_nakul[0]).mean(),np.array(rL_nakul[1]).mean(),np.array(rL_nakul[2]).mean()],\n",
        "                      'wikihow': [np.array(rL_bhagya[0]).mean(),np.array(rL_bhagya[1]).mean(),np.array(rL_bhagya[2]).mean()],\n",
        "                      },index = ['Recall','Precision','fmeasure'])"
      ],
      "execution_count": 52,
      "outputs": []
    },
    {
      "cell_type": "code",
      "metadata": {
        "id": "jpIcgAHV0058"
      },
      "source": [
        "  "
      ],
      "execution_count": 52,
      "outputs": []
    },
    {
      "cell_type": "markdown",
      "metadata": {
        "id": "m5AGWmty0ibd"
      },
      "source": [
        ""
      ]
    },
    {
      "cell_type": "code",
      "metadata": {
        "id": "8e6QeUtny-lP",
        "outputId": "8328004d-7cf4-48c2-b13e-666e95a08924",
        "colab": {
          "base_uri": "https://localhost:8080/",
          "height": 353
        }
      },
      "source": [
        "df_r1.plot.bar(rot=0,figsize=(6,5),title = 'ROUGE-1 score')"
      ],
      "execution_count": 53,
      "outputs": [
        {
          "output_type": "execute_result",
          "data": {
            "text/plain": [
              "<matplotlib.axes._subplots.AxesSubplot at 0x7f234c9e9410>"
            ]
          },
          "metadata": {},
          "execution_count": 53
        },
        {
          "output_type": "display_data",
          "data": {
            "image/png": "[encoded data removed]",
            "text/plain": [
              "<Figure size 432x360 with 1 Axes>"
            ]
          },
          "metadata": {
            "needs_background": "light"
          }
        }
      ]
    },
    {
      "cell_type": "code",
      "metadata": {
        "id": "nnGl2Bot1FrA",
        "outputId": "268bcd13-e11f-46ed-87d7-d04722917989",
        "colab": {
          "base_uri": "https://localhost:8080/",
          "height": 353
        }
      },
      "source": [
        "df_r2.plot.bar(rot=0,figsize=(6,5),title = 'ROUGE-2 score')"
      ],
      "execution_count": 54,
      "outputs": [
        {
          "output_type": "execute_result",
          "data": {
            "text/plain": [
              "<matplotlib.axes._subplots.AxesSubplot at 0x7f234c8fcd90>"
            ]
          },
          "metadata": {},
          "execution_count": 54
        },
        {
          "output_type": "display_data",
          "data": {
            "image/png": "[encoded data removed]",
            "text/plain": [
              "<Figure size 432x360 with 1 Axes>"
            ]
          },
          "metadata": {
            "needs_background": "light"
          }
        }
      ]
    },
    {
      "cell_type": "code",
      "metadata": {
        "id": "6_lBburu1FtO",
        "outputId": "f876b3b0-3805-4f83-fcf6-86fb8df5bf3f",
        "colab": {
          "base_uri": "https://localhost:8080/",
          "height": 353
        }
      },
      "source": [
        "df_rL.plot.bar(rot=0,figsize=(6,5),title = 'ROUGE-L score')\n"
      ],
      "execution_count": 55,
      "outputs": [
        {
          "output_type": "execute_result",
          "data": {
            "text/plain": [
              "<matplotlib.axes._subplots.AxesSubplot at 0x7f234c8364d0>"
            ]
          },
          "metadata": {},
          "execution_count": 55
        },
        {
          "output_type": "display_data",
          "data": {
            "image/png": "[encoded data removed]",
            "text/plain": [
              "<Figure size 432x360 with 1 Axes>"
            ]
          },
          "metadata": {
            "needs_background": "light"
          }
        }
      ]
    }
  ]
}